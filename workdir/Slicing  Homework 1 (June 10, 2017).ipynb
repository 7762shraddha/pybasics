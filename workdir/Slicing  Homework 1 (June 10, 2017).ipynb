{
 "cells": [
  {
   "cell_type": "code",
   "execution_count": 10,
   "metadata": {
    "collapsed": true
   },
   "outputs": [],
   "source": [
    "look= '''Their astonishment may be heightened by removing the yellow light to one end of the room, and restoring the \n",
    "usual or white light at the other; when one side of each person’s dress will resume its original colour, while the \n",
    "other will remain yellow; one cheek may bear the bloom of health, and the other, the yellow of jaundice. Or if, when \n",
    "the yellow light only is burning, the white light be introduced within a wire sieve, the company and the objects in the\n",
    "apartment will appear yellow, mottled with white.'''"
   ]
  },
  {
   "cell_type": "code",
   "execution_count": 11,
   "metadata": {},
   "outputs": [
    {
     "data": {
      "text/plain": [
       "'Their astonishment may be heightened by removing the yellow light to one end of the room, and restoring the \\nusual or white light at the other; when one side of each person’s dress will resume its original colour, while the \\nother will remain yellow; one cheek may bear the bloom of health, and the other, the yellow of jaundice. Or if, when \\nthe yellow light only is burning, the white light be introduced within a wire sieve, the company and the objects in the\\napartment will appear yellow, mottled with white.'"
      ]
     },
     "execution_count": 11,
     "metadata": {},
     "output_type": "execute_result"
    }
   ],
   "source": [
    "look"
   ]
  },
  {
   "cell_type": "code",
   "execution_count": 13,
   "metadata": {},
   "outputs": [
    {
     "data": {
      "text/plain": [
       "'yy'"
      ]
     },
     "execution_count": 13,
     "metadata": {},
     "output_type": "execute_result"
    }
   ],
   "source": [
    "look[21:39:17]"
   ]
  },
  {
   "cell_type": "code",
   "execution_count": 24,
   "metadata": {},
   "outputs": [
    {
     "data": {
      "text/plain": [
       "'as eh'"
      ]
     },
     "execution_count": 24,
     "metadata": {},
     "output_type": "execute_result"
    }
   ],
   "source": [
    "look[6:36:6]"
   ]
  },
  {
   "cell_type": "code",
   "execution_count": 25,
   "metadata": {},
   "outputs": [
    {
     "data": {
      "text/plain": [
       "'.etihw htiw delttom ,wolley raeppa lliw tnemtrapa\\neht ni stcejbo eht dna ynapmoc eht ,eveis eriw a nihtiw decudortni eb thgil etihw eht ,gninrub si ylno thgil wolley eht\\n nehw ,fi rO .ecidnuaj fo wolley eht ,rehto eht dna ,htlaeh fo moolb eht raeb yam keehc eno ;wolley niamer lliw rehto\\n eht elihw ,ruoloc lanigiro sti emuser lliw sserd s’nosrep hcae fo edis eno nehw ;rehto eht ta thgil etihw ro lausu\\n eht gnirotser dna ,moor eht fo dne eno ot thgil wolley eht gnivomer yb denethgieh eb yam tnemhsinotsa riehT'"
      ]
     },
     "execution_count": 25,
     "metadata": {},
     "output_type": "execute_result"
    }
   ],
   "source": [
    "look[::-1]"
   ]
  },
  {
   "cell_type": "code",
   "execution_count": 27,
   "metadata": {},
   "outputs": [
    {
     "data": {
      "text/plain": [
       "'removing the yellow light'"
      ]
     },
     "execution_count": 27,
     "metadata": {},
     "output_type": "execute_result"
    }
   ],
   "source": [
    "look[40:65]"
   ]
  },
  {
   "cell_type": "code",
   "execution_count": 28,
   "metadata": {},
   "outputs": [
    {
     "data": {
      "text/plain": [
       "'to one end of the room,'"
      ]
     },
     "execution_count": 28,
     "metadata": {},
     "output_type": "execute_result"
    }
   ],
   "source": [
    "look[66:89]"
   ]
  },
  {
   "cell_type": "code",
   "execution_count": 29,
   "metadata": {},
   "outputs": [
    {
     "data": {
      "text/plain": [
       "'.wwt,eeltreieena ,swi dit w nsngo   rca ethhalfohemholnrwthirci erwrnpeeeer tgtruensnoh etilene thyniah'"
      ]
     },
     "execution_count": 29,
     "metadata": {},
     "output_type": "execute_result"
    }
   ],
   "source": [
    "look[::-5]"
   ]
  },
  {
   "cell_type": "code",
   "execution_count": 30,
   "metadata": {},
   "outputs": [
    {
     "data": {
      "text/plain": [
       "'Their astonishment may be heightened by removing the yellow light to one end of the room, and restoring the \\nusual or white light at the other; when one side of each person’s dress will resume its original colour, while the \\nother will remain yellow; one cheek may bear the bloom of health, and the other, the yellow of jaundice. Or if, when \\nthe yellow light only is burning, the white light be introduced within a wire sieve, the company and the objects in the\\napartment will appear yellow, mottled with white.'"
      ]
     },
     "execution_count": 30,
     "metadata": {},
     "output_type": "execute_result"
    }
   ],
   "source": [
    "look"
   ]
  },
  {
   "cell_type": "code",
   "execution_count": 32,
   "metadata": {},
   "outputs": [
    {
     "data": {
      "text/plain": [
       "'mottled with white.'"
      ]
     },
     "execution_count": 32,
     "metadata": {},
     "output_type": "execute_result"
    }
   ],
   "source": [
    "look[-19:]"
   ]
  },
  {
   "cell_type": "code",
   "execution_count": 33,
   "metadata": {
    "collapsed": true
   },
   "outputs": [],
   "source": [
    "line='''something in life never changes no matter what !'''"
   ]
  },
  {
   "cell_type": "code",
   "execution_count": 34,
   "metadata": {},
   "outputs": [
    {
     "data": {
      "text/plain": [
       "'something in life never changes no matter what !'"
      ]
     },
     "execution_count": 34,
     "metadata": {},
     "output_type": "execute_result"
    }
   ],
   "source": [
    "line"
   ]
  },
  {
   "cell_type": "code",
   "execution_count": 35,
   "metadata": {},
   "outputs": [
    {
     "data": {
      "text/plain": [
       "' no matter what !'"
      ]
     },
     "execution_count": 35,
     "metadata": {},
     "output_type": "execute_result"
    }
   ],
   "source": [
    "line[-17:]"
   ]
  },
  {
   "cell_type": "code",
   "execution_count": 43,
   "metadata": {},
   "outputs": [
    {
     "data": {
      "text/plain": [
       "'mos'"
      ]
     },
     "execution_count": 43,
     "metadata": {},
     "output_type": "execute_result"
    }
   ],
   "source": [
    "line[2::-1]"
   ]
  },
  {
   "cell_type": "code",
   "execution_count": 45,
   "metadata": {},
   "outputs": [
    {
     "data": {
      "text/plain": [
       "'changes no matter what !'"
      ]
     },
     "execution_count": 45,
     "metadata": {},
     "output_type": "execute_result"
    }
   ],
   "source": [
    "line[-24::1]"
   ]
  },
  {
   "cell_type": "code",
   "execution_count": null,
   "metadata": {
    "collapsed": true
   },
   "outputs": [],
   "source": []
  }
 ],
 "metadata": {
  "kernelspec": {
   "display_name": "Python 3",
   "language": "python",
   "name": "python3"
  },
  "language_info": {
   "codemirror_mode": {
    "name": "ipython",
    "version": 3
   },
   "file_extension": ".py",
   "mimetype": "text/x-python",
   "name": "python",
   "nbconvert_exporter": "python",
   "pygments_lexer": "ipython3",
   "version": "3.6.1"
  }
 },
 "nbformat": 4,
 "nbformat_minor": 2
}
